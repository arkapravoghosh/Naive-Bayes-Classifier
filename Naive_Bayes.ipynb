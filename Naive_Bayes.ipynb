{
  "nbformat": 4,
  "nbformat_minor": 0,
  "metadata": {
    "colab": {
      "name": "Naive_Bayes_2-2.ipynb",
      "provenance": [],
      "collapsed_sections": []
    },
    "kernelspec": {
      "name": "python3",
      "display_name": "Python 3"
    },
    "language_info": {
      "name": "python"
    }
  },
  "cells": [
    {
      "cell_type": "markdown",
      "metadata": {
        "id": "8TUANsczNsv0"
      },
      "source": [
        "### **Importing the libraries**"
      ]
    },
    {
      "cell_type": "code",
      "metadata": {
        "id": "CYKgtA8gHzE0"
      },
      "source": [
        "import pandas as pd\n",
        "import numpy as np\n",
        "import matplotlib.pyplot as plt\n",
        "%matplotlib inline\n",
        "import re\n",
        "from math import sqrt\n",
        "from scipy.sparse import csr_matrix\n",
        "from sklearn.model_selection import train_test_split"
      ],
      "execution_count": 1,
      "outputs": []
    },
    {
      "cell_type": "markdown",
      "metadata": {
        "id": "gtxS6zAPPSb-"
      },
      "source": [
        "## **1. For your dataset, each example is a raw text. In this step, we will extract features from the raw texts. You have to create an r × c binary feature matrix M where r is the number of examples and c is the size of the vocabulary consisting of distinct words present in the dataset. Each row corresponds to an example of the dataset and each column corresponds to a word in the vocabulary. Mij = 1 if and only if the j-th word is present in the text of the i example.**"
      ]
    },
    {
      "cell_type": "markdown",
      "metadata": {
        "id": "Ak2Sy_oLQt7r"
      },
      "source": [
        "## **1a) Use only the train split (train.csv) of the dataset for your experiment. Which mean you have to create the feature matrix M from train.csv only.**\n",
        "\n",
        "## **1b) To read data from train.csv, you can use the python package pandas. Use the function pandas.read csv() to read the data.**"
      ]
    },
    {
      "cell_type": "markdown",
      "metadata": {
        "id": "xSCX8l1aPpf7"
      },
      "source": [
        "### **Function to read the dataset**"
      ]
    },
    {
      "cell_type": "code",
      "metadata": {
        "id": "k6NcOQKBIW-m"
      },
      "source": [
        "def read_data():\n",
        "    '''\n",
        "        reads the dataset and returns a dataframe containing the required columns\n",
        "    '''\n",
        "    df = pd.read_csv('train.csv')\n",
        "\n",
        "    cols = ['id', 'label', 'tweet']\n",
        "    df.drop(cols[0], inplace=True, axis=1) # drop the id column, since it is not required for classification\n",
        "\n",
        "    return df\n",
        "\n",
        "df = read_data()"
      ],
      "execution_count": 2,
      "outputs": []
    },
    {
      "cell_type": "markdown",
      "metadata": {
        "id": "z9xiy6sbQ3tB"
      },
      "source": [
        "## **1c) Since each example is a raw text, split the text into words (this step is called tokenization). You can use the python ‘re’ package for this. Use the function re.findall(“[a-z0-9]+”, text.tolower()) to split the texts into words.**\n",
        "\n",
        "## **1d) Once you have splitted the texts into words, remove all the uninfor\u0002mative words (also referred to stopwords) like article, prepositions, verbs etc. You can find a list of stopwords at https://gist.github.com/sebleier/554280.** "
      ]
    },
    {
      "cell_type": "markdown",
      "metadata": {
        "id": "M-PrXhxyQgGt"
      },
      "source": [
        "### **Function to perform tokenization and uninformative word removal from dataset**"
      ]
    },
    {
      "cell_type": "code",
      "metadata": {
        "id": "OnM_LVl_I5Pw"
      },
      "source": [
        "def process_data(df):\n",
        "    '''\n",
        "        returns the tweets and labels as a list of list and also the vocabulary of the dataset\n",
        "    '''\n",
        "    data = []\n",
        "    vocab = dict()\n",
        "\n",
        "    # list of stopwords from - https://gist.github.com/sebleier/554280\n",
        "    stopwords = set(['i', 'me', 'my', 'myself', 'we', 'our', 'ours', 'ourselves', 'you', 'your', 'yours', 'yourself', 'yourselves', 'he', 'him', 'his', 'himself', 'she', 'her', 'hers', 'herself', 'it', 'its', 'itself', 'they', 'them', 'their', 'theirs', 'themselves', 'what', 'which', 'who', 'whom', 'this', 'that', 'these', 'those', 'am', 'is', 'are', 'was', 'were', 'be', 'been', 'being', 'have', 'has', 'had', 'having', 'do', 'does', 'did', 'doing', 'a', 'an', 'the', 'and', 'but', 'if', 'or', 'because', 'as', 'until', 'while', 'of', 'at', 'by', 'for', 'with', 'about', 'against', 'between', 'into', 'through', 'during', 'before', 'after', 'above', 'below', 'to', 'from', 'up', 'down', 'in', 'out', 'on', 'off', 'over', 'under', 'again', 'further', 'then', 'once', 'here', 'there', 'when', 'where', 'why', 'how', 'all', 'any', 'both', 'each', 'few', 'more', 'most', 'other', 'some', 'such', 'no', 'nor', 'not', 'only', 'own', 'same', 'so', 'than', 'too', 'very', 's', 't', 'can', 'will', 'just', 'don', 'should', 'now'])\n",
        "    \n",
        "    cols = ['label', 'tweet']\n",
        "    index = 0\n",
        "\n",
        "    for i in range(len(df)):\n",
        "        label = df.loc[i, cols[0]]\n",
        "        text = df.loc[i, cols[1]]\n",
        "\n",
        "        tokens = re.findall(\"[a-z0-9]+\", text.lower())                  # peform tokenization to split the text into words\n",
        "        tokens = [token for token in tokens if token not in stopwords]  # remove all the uninformative words(stopword removal)\n",
        "\n",
        "        for token in tokens:\n",
        "            if token not in vocab:\n",
        "                vocab[token] = index                                    # add the new token in the vocabulary\n",
        "                index += 1\n",
        "        \n",
        "        data.append([tokens, label])\n",
        "    \n",
        "    return data, vocab\n",
        "\n",
        "data, vocabulary = process_data(df)"
      ],
      "execution_count": 3,
      "outputs": []
    },
    {
      "cell_type": "markdown",
      "metadata": {
        "id": "AqmFERL7R4U3"
      },
      "source": [
        "## **1e) You may find the matrix M to be very large to fit into the memory. In that case, you can use sparse representation of matrix. You can use either of scipy.sparse.lil matrix or scipy.sparse.csr matrix which ever you find more useful.**"
      ]
    },
    {
      "cell_type": "markdown",
      "metadata": {
        "id": "cfW1E1sBflW7"
      },
      "source": [
        "### **Function to create the Feature Matrix**"
      ]
    },
    {
      "cell_type": "code",
      "metadata": {
        "id": "_UAQuk8M8kwc"
      },
      "source": [
        "def create_feature_matrix(data, vocab):\n",
        "    rows = len(data)\n",
        "    columns = len(vocab)\n",
        "\n",
        "    # create a numpy array as the feature matrix\n",
        "    M = np.zeros((rows, columns), dtype='bool')\n",
        "    row = 0\n",
        "\n",
        "    for tokens, _ in data:\n",
        "        for token in tokens:\n",
        "            index = vocab[token]\n",
        "            M[row, index] = True                    # set the feature matrix as 1(True) where the tokens are present\n",
        "        row += 1\n",
        "\n",
        "    M = csr_matrix(M) # convert the numpy array to CSR Matrix\n",
        "    \n",
        "    return M\n",
        "\n",
        "X = create_feature_matrix(data, vocabulary)\n",
        "y = df['label']"
      ],
      "execution_count": 20,
      "outputs": []
    },
    {
      "cell_type": "markdown",
      "metadata": {
        "id": "yRjp1-EVSb-g"
      },
      "source": [
        "## **2. Randomly split the feature matrix into train split and test split with 70-30 ratio. Train a Naive Bayes classifier on the train split. Compute and report the accuracy of the classifier on the test split.**"
      ]
    },
    {
      "cell_type": "markdown",
      "metadata": {
        "id": "x7to5dYFinWL"
      },
      "source": [
        "### **Randomly splitting the data into train and test**"
      ]
    },
    {
      "cell_type": "code",
      "metadata": {
        "id": "ufcRFQyW25KE"
      },
      "source": [
        "X_train, X_test, y_train, y_test = train_test_split(X, y, test_size=0.3, stratify=y, random_state=27)\n",
        "\n",
        "y_train.index = [i for i in range(len(y_train))]\n",
        "y_test.index = [i for i in range(len(y_test))]"
      ],
      "execution_count": 6,
      "outputs": []
    },
    {
      "cell_type": "markdown",
      "metadata": {
        "id": "QXXg2GbojJG6"
      },
      "source": [
        "### **Naive Bayes Classifier**"
      ]
    },
    {
      "cell_type": "code",
      "metadata": {
        "id": "y8yJRqvRPPbM"
      },
      "source": [
        "class NaiveBayes():\n",
        "    def __init__(self):\n",
        "        self.labels = []\n",
        "        self.label_probs = dict()\n",
        "        self.cond_probs = dict()\n",
        "\n",
        "    def fit(self, X, y):\n",
        "        # check if the number of data points is equal to the number of labels\n",
        "        assert X.shape[0] == len(y)\n",
        "\n",
        "        # get the list of labels\n",
        "        self.labels = list(y.unique())\n",
        "        vocab_size = X.shape[1]\n",
        "\n",
        "        for label in self.labels:\n",
        "            y_label = y[y == label]\n",
        "            prob = len(y_label) / len(y)\n",
        "            self.label_probs[label] = prob\n",
        "\n",
        "            indices = list(y_label.index)\n",
        "            X_label = X[indices]\n",
        "\n",
        "            self.cond_probs[label] = []\n",
        "            rows = len(indices)\n",
        "\n",
        "            # calculate the posterior probabilities for all the attributes for a given label\n",
        "            for i in range(vocab_size):\n",
        "                prob = X_label[:, i].count_nonzero() / rows\n",
        "                self.cond_probs[label].append(prob)\n",
        "\n",
        "    def predict(self, X):\n",
        "        vocab_size = X.shape[1]\n",
        "        prediction_label = self.labels[0]\n",
        "        max_prob = 0\n",
        "\n",
        "        X = X.toarray()\n",
        "        X = list(X[0])\n",
        "\n",
        "        for label in self.labels:\n",
        "            prob = self.label_probs[label]\n",
        "\n",
        "            # calculate the posterior probabilities for all the attributes in the new data point\n",
        "            for i in range(vocab_size):\n",
        "                if X[i]:\n",
        "                    prob *= self.cond_probs[label][i]\n",
        "                else:\n",
        "                    prob *= (1 - self.cond_probs[label][i])\n",
        "\n",
        "            # update the prediction label if the posterior probability is more\n",
        "            if prob > max_prob:\n",
        "                max_prob = prob\n",
        "                prediction_label = label\n",
        "        \n",
        "        return prediction_label"
      ],
      "execution_count": 21,
      "outputs": []
    },
    {
      "cell_type": "markdown",
      "metadata": {
        "id": "9rffmEM8XiOq"
      },
      "source": [
        "### **Training a Naive Bayes Classifier on the train split**"
      ]
    },
    {
      "cell_type": "code",
      "metadata": {
        "id": "11LXDgBnTWLk"
      },
      "source": [
        "model = NaiveBayes()\n",
        "\n",
        "model.fit(X_train, y_train)"
      ],
      "execution_count": 8,
      "outputs": []
    },
    {
      "cell_type": "markdown",
      "metadata": {
        "id": "AE7fE5cCX603"
      },
      "source": [
        "### **Calculate the Accuracy on the Train Split**"
      ]
    },
    {
      "cell_type": "code",
      "metadata": {
        "colab": {
          "base_uri": "https://localhost:8080/"
        },
        "id": "jQ05UhpLrIOQ",
        "outputId": "1b4e9a9e-0220-4450-abd8-19b7180969be"
      },
      "source": [
        "train_correct = 0\n",
        "train_total = len(y_train)\n",
        "\n",
        "for i in range(train_total):\n",
        "    prediction = model.predict(X_train[i])\n",
        "    if prediction == y_train[i]:\n",
        "        train_correct += 1\n",
        "    \n",
        "train_accuracy = (train_correct/train_total)*100\n",
        "print(\"Train Accuracy of Naive Bayes Classifier:\", round(train_accuracy, 2))"
      ],
      "execution_count": 9,
      "outputs": [
        {
          "output_type": "stream",
          "name": "stdout",
          "text": [
            "Train Accuracy of Naive Bayes Classifier: 99.34\n"
          ]
        }
      ]
    },
    {
      "cell_type": "markdown",
      "metadata": {
        "id": "DOUubhWjYBn0"
      },
      "source": [
        "### **Calculate the Accuracy on the Test Split**"
      ]
    },
    {
      "cell_type": "code",
      "metadata": {
        "colab": {
          "base_uri": "https://localhost:8080/"
        },
        "id": "unDyzPYxm-gu",
        "outputId": "102c2d0c-c03f-416d-b69a-ec3c4843760e"
      },
      "source": [
        "test_correct = 0\n",
        "test_total = len(y_test)\n",
        "\n",
        "for i in range(test_total):\n",
        "    prediction = model.predict(X_test[i])\n",
        "    if prediction == y_test[i]:\n",
        "        test_correct += 1\n",
        "    \n",
        "test_accuracy = (test_correct/test_total)*100\n",
        "print(\"Test Accuracy of Naive Bayes Classifier:\", round(test_accuracy, 2))"
      ],
      "execution_count": 10,
      "outputs": [
        {
          "output_type": "stream",
          "name": "stdout",
          "text": [
            "Test Accuracy of Naive Bayes Classifier: 95.0\n"
          ]
        }
      ]
    },
    {
      "cell_type": "markdown",
      "metadata": {
        "id": "uICcaMyzTfCy"
      },
      "source": [
        "## **3. Train a Naive Bayes classifier using Laplace correction on the same train split and report the accuracy on the test split.**"
      ]
    },
    {
      "cell_type": "markdown",
      "metadata": {
        "id": "Ieujd8tfpS52"
      },
      "source": [
        "### **Naive Bayes classifier using Laplace Correction**"
      ]
    },
    {
      "cell_type": "code",
      "metadata": {
        "id": "xp7EpQYoo4DY"
      },
      "source": [
        "class NaiveBayesLaplaceCorrection():\n",
        "    def __init__(self):\n",
        "        self.labels = []\n",
        "        self.label_probs = dict()\n",
        "        self.cond_probs = dict()\n",
        "        self.alpha = 1\n",
        "\n",
        "    def fit(self, X, y):\n",
        "        # check if the number of data points is equal to the number of labels\n",
        "        assert X.shape[0] == len(y)\n",
        "\n",
        "        self.labels = list(y.unique())\n",
        "        vocab_size = X.shape[1]\n",
        "\n",
        "        for label in self.labels:\n",
        "            y_label = y[y == label]\n",
        "            prob = len(y_label) / len(y)\n",
        "            self.label_probs[label] = prob\n",
        "\n",
        "            indices = list(y_label.index)\n",
        "            X_label = X[indices]\n",
        "\n",
        "            self.cond_probs[label] = []\n",
        "            rows = len(indices)\n",
        "            \n",
        "            # calculate the posterior probabilities for all the attributes for a given label using laplace correction\n",
        "            for i in range(vocab_size):\n",
        "                prob = (X_label[:, i].count_nonzero() + self.alpha) / (rows + self.alpha*vocab_size)\n",
        "                self.cond_probs[label].append(prob)\n",
        "\n",
        "    def predict(self, X):\n",
        "        vocab_size = X.shape[1]\n",
        "        prediction_label = self.labels[0]\n",
        "        max_prob = 0\n",
        "\n",
        "        X = X.toarray()\n",
        "        X = list(X[0])\n",
        "\n",
        "        for label in self.labels:\n",
        "            prob = self.label_probs[label]\n",
        "\n",
        "            # calculate the posterior probabilities for all the attributes in the new data point\n",
        "            for i in range(vocab_size):\n",
        "                if X[i]:\n",
        "                    prob *= self.cond_probs[label][i]\n",
        "                else:\n",
        "                    prob *= (1 - self.cond_probs[label][i])\n",
        "\n",
        "            # update the prediction label if the posterior probability is more\n",
        "            if prob > max_prob:\n",
        "                max_prob = prob\n",
        "                prediction_label = label\n",
        "        \n",
        "        return prediction_label"
      ],
      "execution_count": 11,
      "outputs": []
    },
    {
      "cell_type": "markdown",
      "metadata": {
        "id": "yiAACoGNYbFx"
      },
      "source": [
        "### **Training a Naive Bayes Classifier using Laplace Correction on the Same Train Split**"
      ]
    },
    {
      "cell_type": "code",
      "metadata": {
        "id": "HjUsnkPvYYgJ"
      },
      "source": [
        "model_laplace = NaiveBayesLaplaceCorrection()\n",
        "\n",
        "model_laplace.fit(X_train, y_train)"
      ],
      "execution_count": 12,
      "outputs": []
    },
    {
      "cell_type": "markdown",
      "metadata": {
        "id": "_zXcxFMDY5Y_"
      },
      "source": [
        "### **Calculate the Training Accuracy of the model with Laplace Correction**"
      ]
    },
    {
      "cell_type": "code",
      "metadata": {
        "colab": {
          "base_uri": "https://localhost:8080/"
        },
        "id": "oI7PrU3qVk_d",
        "outputId": "9df8d1e4-a651-489f-9286-2ebce22dbc8d"
      },
      "source": [
        "laplace_train_correct = 0\n",
        "laplace_train_total = len(y_train)\n",
        "\n",
        "for i in range(laplace_train_total):\n",
        "    prediction = model_laplace.predict(X_train[i])\n",
        "    if prediction == y_train[i]:\n",
        "        laplace_train_correct += 1\n",
        "    \n",
        "laplace_train_accuracy = (laplace_train_correct/laplace_train_total)*100\n",
        "print(\"Train Accuracy of Naive Bayes Classifier using Laplace Correction:\", round(laplace_train_accuracy, 2))"
      ],
      "execution_count": 13,
      "outputs": [
        {
          "output_type": "stream",
          "name": "stdout",
          "text": [
            "Train Accuracy of Naive Bayes Classifier using Laplace Correction: 95.17\n"
          ]
        }
      ]
    },
    {
      "cell_type": "markdown",
      "metadata": {
        "id": "9CXlmshhY-EZ"
      },
      "source": [
        "### **Calculate the Test Accuracy of the model with Laplace Correction**"
      ]
    },
    {
      "cell_type": "code",
      "metadata": {
        "colab": {
          "base_uri": "https://localhost:8080/"
        },
        "id": "NilnjgrwZDeZ",
        "outputId": "6ffedc76-0fae-4579-8640-0c5c6bfece02"
      },
      "source": [
        "laplace_test_correct = 0\n",
        "laplace_test_total = len(y_test)\n",
        "\n",
        "for i in range(laplace_test_total):\n",
        "    prediction = model_laplace.predict(X_test[i])\n",
        "    if prediction == y_test[i]:\n",
        "        laplace_test_correct += 1\n",
        "    \n",
        "laplace_test_accuracy = (laplace_test_correct/laplace_test_total)*100\n",
        "print(\"Test Accuracy of Naive Bayes Classifier using Laplace Correction:\", round(laplace_test_accuracy, 2))"
      ],
      "execution_count": 14,
      "outputs": [
        {
          "output_type": "stream",
          "name": "stdout",
          "text": [
            "Test Accuracy of Naive Bayes Classifier using Laplace Correction: 94.55\n"
          ]
        }
      ]
    },
    {
      "cell_type": "markdown",
      "metadata": {
        "id": "g8fIv7M3UyUu"
      },
      "source": [
        "## **4. A report explaining the implementation and analysis of the results by providing the 95% confidence interval of the accuracy, precision, f-score, sensitivity and specificity for questions 2 and 3.**"
      ]
    },
    {
      "cell_type": "markdown",
      "metadata": {
        "id": "-x0ZarHxfJEf"
      },
      "source": [
        "### **(Question 2) 95% Confidence Interval of the Accuracy, Precision, F-score, Sensitivity, Specificity of Naive Bayes Classifier on the Test Split**"
      ]
    },
    {
      "cell_type": "code",
      "metadata": {
        "colab": {
          "base_uri": "https://localhost:8080/"
        },
        "id": "cc1pi_GEhC9M",
        "outputId": "1f5f14a0-3e6b-4290-e33e-b45d41c4fb37"
      },
      "source": [
        "true_positive = 0\n",
        "false_positive = 0\n",
        "false_negative = 0\n",
        "true_negative = 0\n",
        "accuracy = 0\n",
        "const = 1.96                       # for 95% confidence interval const = 1.96\n",
        "prediction_labels = []\n",
        "\n",
        "test_total = len(y_test)\n",
        "\n",
        "for i in range(test_total):\n",
        "    prediction = model.predict(X_test[i])\n",
        "    prediction_labels.append(prediction)\n",
        "    if y_test[i] == 1:\n",
        "        if prediction == 1:\n",
        "            true_positive += 1\n",
        "            accuracy += 1\n",
        "        else:\n",
        "            false_negative += 1\n",
        "    else:\n",
        "        if prediction == 1:\n",
        "            false_positive += 1\n",
        "        else:\n",
        "            true_negative += 1\n",
        "            accuracy += 1\n",
        "\n",
        "precision = true_positive / (true_positive + false_positive)\n",
        "sensitivity = true_positive / (true_positive + false_negative)\n",
        "specificity = true_negative / (true_negative + false_positive)\n",
        "f_score = (2 * precision * sensitivity) / (precision + sensitivity)\n",
        "accuracy = accuracy / test_total\n",
        "temp = const * sqrt( (accuracy * (1 - accuracy)) / test_total)\n",
        "min_interval = max(0, accuracy - temp)\n",
        "max_interval = min(accuracy + temp, 1)\n",
        "\n",
        "print(\"Test 95% Confidence Interval of Naive Bayes Classifier: [\" + str(round(min_interval, 4)) + \", \" + str(round(max_interval, 4)) + \"]\")\n",
        "print(\"Test Precision of Naive Bayes Classifier:\", round(precision, 2))\n",
        "print(\"Test F-score of Naive Bayes Classifier:\", round(f_score, 2))\n",
        "print(\"Test Sensitivity of Naive Bayes Classifier:\", round(sensitivity, 2))\n",
        "print(\"Test Specificity of Naive Bayes Classifier:\", round(specificity, 2))"
      ],
      "execution_count": 15,
      "outputs": [
        {
          "output_type": "stream",
          "name": "stdout",
          "text": [
            "Test 95% Confidence Interval of Naive Bayes Classifier: [0.9457, 0.9544]\n",
            "Test Precision of Naive Bayes Classifier: 0.85\n",
            "Test F-score of Naive Bayes Classifier: 0.5\n",
            "Test Sensitivity of Naive Bayes Classifier: 0.35\n",
            "Test Specificity of Naive Bayes Classifier: 1.0\n"
          ]
        }
      ]
    },
    {
      "cell_type": "markdown",
      "metadata": {
        "id": "nLwBKVCgfbxl"
      },
      "source": [
        "### **(Question 3) 95% Confidence Interval of the Accuracy, Precision, F-score, Sensitivity, Specificity of Naive Bayes Classifier using Laplace Correction on the Test Split**"
      ]
    },
    {
      "cell_type": "code",
      "metadata": {
        "id": "GFl-4sAVfdn_",
        "colab": {
          "base_uri": "https://localhost:8080/"
        },
        "outputId": "e11bd7ae-8e59-4523-8b6b-6c9744fb29e9"
      },
      "source": [
        "true_positive = 0\n",
        "false_positive = 0\n",
        "false_negative = 0\n",
        "true_negative = 0\n",
        "accuracy = 0\n",
        "const = 1.96                       # for 95% confidence interval const = 1.96\n",
        "laplace_prediction_labels = []\n",
        "\n",
        "test_total = len(y_test)\n",
        "\n",
        "for i in range(test_total):\n",
        "    prediction = model_laplace.predict(X_test[i])\n",
        "    laplace_prediction_labels.append(prediction)\n",
        "    if y_test[i] == 1:\n",
        "        if prediction == 1:\n",
        "            true_positive += 1\n",
        "            accuracy += 1\n",
        "        else:\n",
        "            false_negative += 1\n",
        "    else:\n",
        "        if prediction == 1:\n",
        "            false_positive += 1\n",
        "        else:\n",
        "            true_negative += 1\n",
        "            accuracy += 1\n",
        "\n",
        "precision = true_positive / (true_positive + false_positive)\n",
        "sensitivity = true_positive / (true_positive + false_negative)\n",
        "specificity = true_negative / (true_negative + false_positive)\n",
        "f_score = (2 * precision * sensitivity) / (precision + sensitivity)\n",
        "accuracy = accuracy / test_total\n",
        "temp = const * sqrt( (accuracy * (1 - accuracy)) / test_total)\n",
        "min_interval = max(0, accuracy - temp)\n",
        "max_interval = min(accuracy + temp, 1)\n",
        "\n",
        "print(\"Test 95% Confidence Interval of Naive Bayes Classifier using Laplace Correction: [\" + str(round(min_interval, 4)) + \", \" + str(round(max_interval, 4)) + \"]\")\n",
        "print(\"Test Precision of Naive Bayes Classifier using Laplace Correction:\", round(precision, 2))\n",
        "print(\"Test F-score of Naive Bayes Classifier using Laplace Correction:\", round(f_score, 2))\n",
        "print(\"Test Sensitivity of Naive Bayes Classifier using Laplace Correction:\", round(sensitivity, 2))\n",
        "print(\"Test Specificity of Naive Bayes Classifier using Laplace Correction:\", round(specificity, 2))"
      ],
      "execution_count": 16,
      "outputs": [
        {
          "output_type": "stream",
          "name": "stdout",
          "text": [
            "Test 95% Confidence Interval of Naive Bayes Classifier using Laplace Correction: [0.9409, 0.95]\n",
            "Test Precision of Naive Bayes Classifier using Laplace Correction: 0.89\n",
            "Test F-score of Naive Bayes Classifier using Laplace Correction: 0.4\n",
            "Test Sensitivity of Naive Bayes Classifier using Laplace Correction: 0.25\n",
            "Test Specificity of Naive Bayes Classifier using Laplace Correction: 1.0\n"
          ]
        }
      ]
    },
    {
      "cell_type": "markdown",
      "metadata": {
        "id": "qtkurDOLZM12"
      },
      "source": [
        "# **For Report - Confusion Matrix**"
      ]
    },
    {
      "cell_type": "code",
      "metadata": {
        "id": "4q8CXYu3c_7B"
      },
      "source": [
        "import seaborn as sns; sns.set()\n",
        "from sklearn.metrics import confusion_matrix, ConfusionMatrixDisplay"
      ],
      "execution_count": 17,
      "outputs": []
    },
    {
      "cell_type": "code",
      "metadata": {
        "colab": {
          "base_uri": "https://localhost:8080/",
          "height": 302
        },
        "id": "CER1w2CQZrya",
        "outputId": "283cdb62-1c74-4ac8-8613-150900312180"
      },
      "source": [
        "mat = confusion_matrix(y_test, prediction_labels)\n",
        "sns.heatmap(mat.T, square=True, annot=True, fmt='d', xticklabels=['not racist/sexist', 'racist/sexist'], yticklabels=['not racist/sexist', 'racist/sexist'])\n",
        "plt.xlabel('True Label')\n",
        "plt.ylabel('Predicted Label')"
      ],
      "execution_count": 18,
      "outputs": [
        {
          "output_type": "execute_result",
          "data": {
            "text/plain": [
              "Text(80.90000000000006, 0.5, 'Predicted Label')"
            ]
          },
          "metadata": {},
          "execution_count": 18
        },
        {
          "output_type": "display_data",
          "data": {
            "image/png": "[encoded data removed]",
            "text/plain": [
              "<Figure size 432x288 with 2 Axes>"
            ]
          },
          "metadata": {}
        }
      ]
    },
    {
      "cell_type": "code",
      "metadata": {
        "colab": {
          "base_uri": "https://localhost:8080/",
          "height": 302
        },
        "id": "jrYVvjGVc9g2",
        "outputId": "48f8c93a-ab0e-483e-90fc-6343c414d7f6"
      },
      "source": [
        "mat = confusion_matrix(y_test, laplace_prediction_labels)\n",
        "sns.heatmap(mat.T, square=True, annot=True, fmt='d', xticklabels=['not racist/sexist', 'racist/sexist'], yticklabels=['not racist/sexist', 'racist/sexist'])\n",
        "plt.xlabel('True Label')\n",
        "plt.ylabel('Predicted Label')"
      ],
      "execution_count": 19,
      "outputs": [
        {
          "output_type": "execute_result",
          "data": {
            "text/plain": [
              "Text(80.90000000000006, 0.5, 'Predicted Label')"
            ]
          },
          "metadata": {},
          "execution_count": 19
        },
        {
          "output_type": "display_data",
          "data": {
            "image/png": "[encoded data removed]",
            "text/plain": [
              "<Figure size 432x288 with 2 Axes>"
            ]
          },
          "metadata": {}
        }
      ]
    }
  ]
}